{
 "cells": [
  {
   "cell_type": "markdown",
   "id": "f4f96ba1",
   "metadata": {},
   "source": [
    "# Importing Libraries"
   ]
  },
  {
   "cell_type": "code",
   "execution_count": 146,
   "id": "5fd77946",
   "metadata": {},
   "outputs": [],
   "source": [
    "#Importing required libraries to handle and visualize data\n",
    "\n",
    "import pandas as pd\n",
    "import numpy as np\n",
    "import matplotlib.pyplot as plt\n",
    "import seaborn as sns\n",
    "\n",
    "#Importing required Machine Learning Libaries to split and process data\n",
    "\n",
    "from sklearn.preprocessing import LabelEncoder\n",
    "from sklearn.preprocessing import MinMaxScaler\n",
    "from sklearn.model_selection import train_test_split\n",
    "\n",
    "#Importing required Machine Learning Libraries to predict data based on different ML Models\n",
    "\n",
    "from sklearn.linear_model import LinearRegression\n",
    "from sklearn import svm\n",
    "\n",
    "#Importing required Machine Learning Evaluation Metric Libraries to check performance of different ML Models\n",
    "from sklearn.metrics import r2_score\n",
    "from sklearn.metrics import mean_absolute_error\n",
    "from sklearn.metrics import mean_squared_error\n",
    "from sklearn.metrics import mean_absolute_percentage_error\n",
    "from sklearn.metrics import max_error\n",
    "from sklearn.metrics import median_absolute_error"
   ]
  },
  {
   "cell_type": "markdown",
   "id": "7961dbd8",
   "metadata": {},
   "source": [
    "# Importing Dataset"
   ]
  },
  {
   "cell_type": "code",
   "execution_count": 51,
   "id": "8a6ffd02",
   "metadata": {},
   "outputs": [],
   "source": [
    "#Importing the data from the same folder as the Notebook to a variable called data using the pandas library\n",
    "\n",
    "data = pd.read_csv(\"insurance.csv\")"
   ]
  },
  {
   "cell_type": "markdown",
   "id": "ee7d1a1a",
   "metadata": {},
   "source": [
    "# Visualizing the Data"
   ]
  },
  {
   "cell_type": "code",
   "execution_count": 52,
   "id": "fdf04526",
   "metadata": {},
   "outputs": [
    {
     "data": {
      "text/html": [
       "<div>\n",
       "<style scoped>\n",
       "    .dataframe tbody tr th:only-of-type {\n",
       "        vertical-align: middle;\n",
       "    }\n",
       "\n",
       "    .dataframe tbody tr th {\n",
       "        vertical-align: top;\n",
       "    }\n",
       "\n",
       "    .dataframe thead th {\n",
       "        text-align: right;\n",
       "    }\n",
       "</style>\n",
       "<table border=\"1\" class=\"dataframe\">\n",
       "  <thead>\n",
       "    <tr style=\"text-align: right;\">\n",
       "      <th></th>\n",
       "      <th>age</th>\n",
       "      <th>sex</th>\n",
       "      <th>bmi</th>\n",
       "      <th>children</th>\n",
       "      <th>smoker</th>\n",
       "      <th>region</th>\n",
       "      <th>charges</th>\n",
       "    </tr>\n",
       "  </thead>\n",
       "  <tbody>\n",
       "    <tr>\n",
       "      <th>0</th>\n",
       "      <td>19</td>\n",
       "      <td>female</td>\n",
       "      <td>27.900</td>\n",
       "      <td>0</td>\n",
       "      <td>yes</td>\n",
       "      <td>southwest</td>\n",
       "      <td>16884.92400</td>\n",
       "    </tr>\n",
       "    <tr>\n",
       "      <th>1</th>\n",
       "      <td>18</td>\n",
       "      <td>male</td>\n",
       "      <td>33.770</td>\n",
       "      <td>1</td>\n",
       "      <td>no</td>\n",
       "      <td>southeast</td>\n",
       "      <td>1725.55230</td>\n",
       "    </tr>\n",
       "    <tr>\n",
       "      <th>2</th>\n",
       "      <td>28</td>\n",
       "      <td>male</td>\n",
       "      <td>33.000</td>\n",
       "      <td>3</td>\n",
       "      <td>no</td>\n",
       "      <td>southeast</td>\n",
       "      <td>4449.46200</td>\n",
       "    </tr>\n",
       "    <tr>\n",
       "      <th>3</th>\n",
       "      <td>33</td>\n",
       "      <td>male</td>\n",
       "      <td>22.705</td>\n",
       "      <td>0</td>\n",
       "      <td>no</td>\n",
       "      <td>northwest</td>\n",
       "      <td>21984.47061</td>\n",
       "    </tr>\n",
       "    <tr>\n",
       "      <th>4</th>\n",
       "      <td>32</td>\n",
       "      <td>male</td>\n",
       "      <td>28.880</td>\n",
       "      <td>0</td>\n",
       "      <td>no</td>\n",
       "      <td>northwest</td>\n",
       "      <td>3866.85520</td>\n",
       "    </tr>\n",
       "  </tbody>\n",
       "</table>\n",
       "</div>"
      ],
      "text/plain": [
       "   age     sex     bmi  children smoker     region      charges\n",
       "0   19  female  27.900         0    yes  southwest  16884.92400\n",
       "1   18    male  33.770         1     no  southeast   1725.55230\n",
       "2   28    male  33.000         3     no  southeast   4449.46200\n",
       "3   33    male  22.705         0     no  northwest  21984.47061\n",
       "4   32    male  28.880         0     no  northwest   3866.85520"
      ]
     },
     "execution_count": 52,
     "metadata": {},
     "output_type": "execute_result"
    }
   ],
   "source": [
    "data.head()"
   ]
  },
  {
   "cell_type": "code",
   "execution_count": 53,
   "id": "8dc6051d",
   "metadata": {},
   "outputs": [
    {
     "data": {
      "text/html": [
       "<div>\n",
       "<style scoped>\n",
       "    .dataframe tbody tr th:only-of-type {\n",
       "        vertical-align: middle;\n",
       "    }\n",
       "\n",
       "    .dataframe tbody tr th {\n",
       "        vertical-align: top;\n",
       "    }\n",
       "\n",
       "    .dataframe thead th {\n",
       "        text-align: right;\n",
       "    }\n",
       "</style>\n",
       "<table border=\"1\" class=\"dataframe\">\n",
       "  <thead>\n",
       "    <tr style=\"text-align: right;\">\n",
       "      <th></th>\n",
       "      <th>age</th>\n",
       "      <th>bmi</th>\n",
       "      <th>children</th>\n",
       "      <th>charges</th>\n",
       "    </tr>\n",
       "  </thead>\n",
       "  <tbody>\n",
       "    <tr>\n",
       "      <th>count</th>\n",
       "      <td>1338.000000</td>\n",
       "      <td>1338.000000</td>\n",
       "      <td>1338.000000</td>\n",
       "      <td>1338.000000</td>\n",
       "    </tr>\n",
       "    <tr>\n",
       "      <th>mean</th>\n",
       "      <td>39.207025</td>\n",
       "      <td>30.663397</td>\n",
       "      <td>1.094918</td>\n",
       "      <td>13270.422265</td>\n",
       "    </tr>\n",
       "    <tr>\n",
       "      <th>std</th>\n",
       "      <td>14.049960</td>\n",
       "      <td>6.098187</td>\n",
       "      <td>1.205493</td>\n",
       "      <td>12110.011237</td>\n",
       "    </tr>\n",
       "    <tr>\n",
       "      <th>min</th>\n",
       "      <td>18.000000</td>\n",
       "      <td>15.960000</td>\n",
       "      <td>0.000000</td>\n",
       "      <td>1121.873900</td>\n",
       "    </tr>\n",
       "    <tr>\n",
       "      <th>25%</th>\n",
       "      <td>27.000000</td>\n",
       "      <td>26.296250</td>\n",
       "      <td>0.000000</td>\n",
       "      <td>4740.287150</td>\n",
       "    </tr>\n",
       "    <tr>\n",
       "      <th>50%</th>\n",
       "      <td>39.000000</td>\n",
       "      <td>30.400000</td>\n",
       "      <td>1.000000</td>\n",
       "      <td>9382.033000</td>\n",
       "    </tr>\n",
       "    <tr>\n",
       "      <th>75%</th>\n",
       "      <td>51.000000</td>\n",
       "      <td>34.693750</td>\n",
       "      <td>2.000000</td>\n",
       "      <td>16639.912515</td>\n",
       "    </tr>\n",
       "    <tr>\n",
       "      <th>max</th>\n",
       "      <td>64.000000</td>\n",
       "      <td>53.130000</td>\n",
       "      <td>5.000000</td>\n",
       "      <td>63770.428010</td>\n",
       "    </tr>\n",
       "  </tbody>\n",
       "</table>\n",
       "</div>"
      ],
      "text/plain": [
       "               age          bmi     children       charges\n",
       "count  1338.000000  1338.000000  1338.000000   1338.000000\n",
       "mean     39.207025    30.663397     1.094918  13270.422265\n",
       "std      14.049960     6.098187     1.205493  12110.011237\n",
       "min      18.000000    15.960000     0.000000   1121.873900\n",
       "25%      27.000000    26.296250     0.000000   4740.287150\n",
       "50%      39.000000    30.400000     1.000000   9382.033000\n",
       "75%      51.000000    34.693750     2.000000  16639.912515\n",
       "max      64.000000    53.130000     5.000000  63770.428010"
      ]
     },
     "execution_count": 53,
     "metadata": {},
     "output_type": "execute_result"
    }
   ],
   "source": [
    "data.describe()"
   ]
  },
  {
   "cell_type": "markdown",
   "id": "a03bb995",
   "metadata": {},
   "source": [
    "As we can see, we have the statistics of the various columns with integer values. From this, we can deduce which data has outliers. We need merely the IQR (Inter Quartile Range) for each column and we can find out which data has outliers. For figuring out the outliers, we have the following formulae:\n",
    "#### 1. Outlier tolerance in the lower range: Q1 - 1.5 * (IQR). \n",
    "#### 2. Outlier tolerance in the higher range: Q3 + 1.5 * (IQR).\n",
    "\n",
    "#### For the age column, the IQR is 51 - 27 = 24. \n",
    "\n",
    "The outlier tolerance for the lower range is: 27 - 1.5 * 24 = -9 (Any value below this is an outlier) (No outliers in our data)\n",
    "\n",
    "The outlier tolerance for the higher range is: 51 + 1.5 * 24 = 87 (Any value above this is an outlier) (No outliers in our data)\n",
    "\n",
    "#### For the BMI column, the IQR is 34.69375 - 26.29625 = 8.3975\n",
    "\n",
    "The outlier tolerance for the lower range is: 26.29625 - 1.5 * 8.3975 = 13.7 (Any value below this is an outlier) (No outliers in our data)\n",
    "\n",
    "The outlier tolerance for the higher range is: 34.69375 + 1.5 * 8.3975 = 47.29 (Any value above this is an outlier) (We have some outliers in our data)\n",
    "\n",
    "We do not consider the outliers for children as the range is too small.\n",
    "We do not consider the outliers for charges as that is our output data, which we will use to train the model"
   ]
  },
  {
   "cell_type": "code",
   "execution_count": 54,
   "id": "b0a0dfac",
   "metadata": {},
   "outputs": [
    {
     "name": "stdout",
     "output_type": "stream",
     "text": [
      "<class 'pandas.core.frame.DataFrame'>\n",
      "RangeIndex: 1338 entries, 0 to 1337\n",
      "Data columns (total 7 columns):\n",
      " #   Column    Non-Null Count  Dtype  \n",
      "---  ------    --------------  -----  \n",
      " 0   age       1338 non-null   int64  \n",
      " 1   sex       1338 non-null   object \n",
      " 2   bmi       1338 non-null   float64\n",
      " 3   children  1338 non-null   int64  \n",
      " 4   smoker    1338 non-null   object \n",
      " 5   region    1338 non-null   object \n",
      " 6   charges   1338 non-null   float64\n",
      "dtypes: float64(2), int64(2), object(3)\n",
      "memory usage: 73.3+ KB\n"
     ]
    }
   ],
   "source": [
    "data.info()"
   ]
  },
  {
   "cell_type": "markdown",
   "id": "b87050f3",
   "metadata": {},
   "source": [
    "From the above, we can understand the statistics of the data, and we observe that there are no values in the data that are null."
   ]
  },
  {
   "cell_type": "markdown",
   "id": "608ba6a7",
   "metadata": {},
   "source": [
    "# Removing Outliers"
   ]
  },
  {
   "cell_type": "markdown",
   "id": "477471e9",
   "metadata": {},
   "source": [
    "We will now remove the outliers based on the BMI we found earlier to ensure that our data is accurate when we do the exploratory data analysis"
   ]
  },
  {
   "cell_type": "code",
   "execution_count": 55,
   "id": "3b769d39",
   "metadata": {},
   "outputs": [],
   "source": [
    "data.drop(data[data['bmi'] > 47.29].index, inplace = True)"
   ]
  },
  {
   "cell_type": "markdown",
   "id": "81e942e3",
   "metadata": {},
   "source": [
    "We will now check what differences are now observed from earlier"
   ]
  },
  {
   "cell_type": "code",
   "execution_count": 56,
   "id": "8cbffe2b",
   "metadata": {},
   "outputs": [
    {
     "data": {
      "text/html": [
       "<div>\n",
       "<style scoped>\n",
       "    .dataframe tbody tr th:only-of-type {\n",
       "        vertical-align: middle;\n",
       "    }\n",
       "\n",
       "    .dataframe tbody tr th {\n",
       "        vertical-align: top;\n",
       "    }\n",
       "\n",
       "    .dataframe thead th {\n",
       "        text-align: right;\n",
       "    }\n",
       "</style>\n",
       "<table border=\"1\" class=\"dataframe\">\n",
       "  <thead>\n",
       "    <tr style=\"text-align: right;\">\n",
       "      <th></th>\n",
       "      <th>age</th>\n",
       "      <th>bmi</th>\n",
       "      <th>children</th>\n",
       "      <th>charges</th>\n",
       "    </tr>\n",
       "  </thead>\n",
       "  <tbody>\n",
       "    <tr>\n",
       "      <th>count</th>\n",
       "      <td>1329.000000</td>\n",
       "      <td>1329.000000</td>\n",
       "      <td>1329.000000</td>\n",
       "      <td>1329.000000</td>\n",
       "    </tr>\n",
       "    <tr>\n",
       "      <th>mean</th>\n",
       "      <td>39.203913</td>\n",
       "      <td>30.537348</td>\n",
       "      <td>1.096313</td>\n",
       "      <td>13212.333374</td>\n",
       "    </tr>\n",
       "    <tr>\n",
       "      <th>std</th>\n",
       "      <td>14.047835</td>\n",
       "      <td>5.919946</td>\n",
       "      <td>1.207928</td>\n",
       "      <td>11997.236429</td>\n",
       "    </tr>\n",
       "    <tr>\n",
       "      <th>min</th>\n",
       "      <td>18.000000</td>\n",
       "      <td>15.960000</td>\n",
       "      <td>0.000000</td>\n",
       "      <td>1121.873900</td>\n",
       "    </tr>\n",
       "    <tr>\n",
       "      <th>25%</th>\n",
       "      <td>27.000000</td>\n",
       "      <td>26.220000</td>\n",
       "      <td>0.000000</td>\n",
       "      <td>4738.268200</td>\n",
       "    </tr>\n",
       "    <tr>\n",
       "      <th>50%</th>\n",
       "      <td>39.000000</td>\n",
       "      <td>30.300000</td>\n",
       "      <td>1.000000</td>\n",
       "      <td>9361.326800</td>\n",
       "    </tr>\n",
       "    <tr>\n",
       "      <th>75%</th>\n",
       "      <td>51.000000</td>\n",
       "      <td>34.485000</td>\n",
       "      <td>2.000000</td>\n",
       "      <td>16586.497710</td>\n",
       "    </tr>\n",
       "    <tr>\n",
       "      <th>max</th>\n",
       "      <td>64.000000</td>\n",
       "      <td>46.750000</td>\n",
       "      <td>5.000000</td>\n",
       "      <td>62592.873090</td>\n",
       "    </tr>\n",
       "  </tbody>\n",
       "</table>\n",
       "</div>"
      ],
      "text/plain": [
       "               age          bmi     children       charges\n",
       "count  1329.000000  1329.000000  1329.000000   1329.000000\n",
       "mean     39.203913    30.537348     1.096313  13212.333374\n",
       "std      14.047835     5.919946     1.207928  11997.236429\n",
       "min      18.000000    15.960000     0.000000   1121.873900\n",
       "25%      27.000000    26.220000     0.000000   4738.268200\n",
       "50%      39.000000    30.300000     1.000000   9361.326800\n",
       "75%      51.000000    34.485000     2.000000  16586.497710\n",
       "max      64.000000    46.750000     5.000000  62592.873090"
      ]
     },
     "execution_count": 56,
     "metadata": {},
     "output_type": "execute_result"
    }
   ],
   "source": [
    "data.describe()"
   ]
  },
  {
   "cell_type": "code",
   "execution_count": 57,
   "id": "bbacd1ff",
   "metadata": {},
   "outputs": [
    {
     "name": "stdout",
     "output_type": "stream",
     "text": [
      "<class 'pandas.core.frame.DataFrame'>\n",
      "Int64Index: 1329 entries, 0 to 1337\n",
      "Data columns (total 7 columns):\n",
      " #   Column    Non-Null Count  Dtype  \n",
      "---  ------    --------------  -----  \n",
      " 0   age       1329 non-null   int64  \n",
      " 1   sex       1329 non-null   object \n",
      " 2   bmi       1329 non-null   float64\n",
      " 3   children  1329 non-null   int64  \n",
      " 4   smoker    1329 non-null   object \n",
      " 5   region    1329 non-null   object \n",
      " 6   charges   1329 non-null   float64\n",
      "dtypes: float64(2), int64(2), object(3)\n",
      "memory usage: 83.1+ KB\n"
     ]
    }
   ],
   "source": [
    "data.info()"
   ]
  },
  {
   "cell_type": "markdown",
   "id": "33324583",
   "metadata": {},
   "source": [
    "As we can now see, the total number of entries have been reduced from 1338 to 1329"
   ]
  },
  {
   "cell_type": "markdown",
   "id": "c4b56af9",
   "metadata": {},
   "source": [
    "# Exploratory Data Analysis"
   ]
  },
  {
   "cell_type": "markdown",
   "id": "a715faa7",
   "metadata": {},
   "source": [
    "We will now analyze the dataset given and the relationship(s) between the various columns and their impact on one another"
   ]
  },
  {
   "cell_type": "markdown",
   "id": "51236602",
   "metadata": {},
   "source": [
    "### 1. Distribution of BMI"
   ]
  },
  {
   "cell_type": "code",
   "execution_count": 58,
   "id": "40d9f076",
   "metadata": {},
   "outputs": [
    {
     "data": {
      "text/plain": [
       "<AxesSubplot:>"
      ]
     },
     "execution_count": 58,
     "metadata": {},
     "output_type": "execute_result"
    },
    {
     "data": {
      "image/png": "[encoded data removed]",
      "text/plain": [
       "<Figure size 1008x432 with 1 Axes>"
      ]
     },
     "metadata": {},
     "output_type": "display_data"
    }
   ],
   "source": [
    "BMI = data.loc[:, 'bmi']\n",
    "indices = np.arange(start = 0, stop = 60, step = 5)\n",
    "BMI.hist(bins = indices, figsize = [14, 6])"
   ]
  },
  {
   "cell_type": "markdown",
   "id": "36042117",
   "metadata": {},
   "source": [
    "As we can clearly see, the BMI of the people is mostly between the ranges of 20 to 40"
   ]
  },
  {
   "cell_type": "markdown",
   "id": "79690395",
   "metadata": {},
   "source": [
    "### 2. Relation between Smoker and Charges"
   ]
  },
  {
   "cell_type": "code",
   "execution_count": 59,
   "id": "b7637362",
   "metadata": {},
   "outputs": [
    {
     "data": {
      "text/plain": [
       "<AxesSubplot:xlabel='smoker', ylabel='charges'>"
      ]
     },
     "execution_count": 59,
     "metadata": {},
     "output_type": "execute_result"
    },
    {
     "data": {
      "image/png": "[encoded data removed]",
      "text/plain": [
       "<Figure size 432x288 with 1 Axes>"
      ]
     },
     "metadata": {},
     "output_type": "display_data"
    }
   ],
   "source": [
    "sns.barplot(x = 'smoker', y = 'charges', data = data)"
   ]
  },
  {
   "cell_type": "markdown",
   "id": "16d720a7",
   "metadata": {},
   "source": [
    "The data indicates that there is a higher insurance charge given to those who are smokers compared to non - smokers"
   ]
  },
  {
   "cell_type": "code",
   "execution_count": 60,
   "id": "4c23a2e2",
   "metadata": {},
   "outputs": [
    {
     "data": {
      "text/plain": [
       "<AxesSubplot:xlabel='smoker', ylabel='charges'>"
      ]
     },
     "execution_count": 60,
     "metadata": {},
     "output_type": "execute_result"
    },
    {
     "data": {
      "image/png": "[encoded data removed]",
      "text/plain": [
       "<Figure size 432x288 with 1 Axes>"
      ]
     },
     "metadata": {},
     "output_type": "display_data"
    }
   ],
   "source": [
    "sns.barplot(x = 'smoker', y = 'charges', data = data, hue = 'sex')"
   ]
  },
  {
   "cell_type": "markdown",
   "id": "bfbc267a",
   "metadata": {},
   "source": [
    "We can see that the distribution of the data is the same for males as well as females when comparing smokers"
   ]
  },
  {
   "cell_type": "markdown",
   "id": "e4f88a6d",
   "metadata": {},
   "source": [
    "### 3. Relation between Smoker and Region"
   ]
  },
  {
   "cell_type": "code",
   "execution_count": 61,
   "id": "3c13d486",
   "metadata": {},
   "outputs": [
    {
     "data": {
      "text/plain": [
       "<AxesSubplot:xlabel='smoker', ylabel='region'>"
      ]
     },
     "execution_count": 61,
     "metadata": {},
     "output_type": "execute_result"
    },
    {
     "data": {
      "image/png": "[encoded data removed]",
      "text/plain": [
       "<Figure size 432x288 with 1 Axes>"
      ]
     },
     "metadata": {},
     "output_type": "display_data"
    }
   ],
   "source": [
    "sns.histplot(x = 'smoker', y = 'region', data = data)"
   ]
  },
  {
   "cell_type": "markdown",
   "id": "2a06b0cf",
   "metadata": {},
   "source": [
    "From this we can deduce that the smokers and non-smokers are evenly distributed across all regions, i.e., there is no majority of smokers from a particular region"
   ]
  },
  {
   "cell_type": "code",
   "execution_count": 62,
   "id": "5a3ec676",
   "metadata": {},
   "outputs": [
    {
     "data": {
      "text/plain": [
       "<AxesSubplot:xlabel='region', ylabel='charges'>"
      ]
     },
     "execution_count": 62,
     "metadata": {},
     "output_type": "execute_result"
    },
    {
     "data": {
      "image/png": "[encoded data removed]",
      "text/plain": [
       "<Figure size 432x288 with 1 Axes>"
      ]
     },
     "metadata": {},
     "output_type": "display_data"
    }
   ],
   "source": [
    "sns.barplot(x = 'region', y = 'charges', data = data, hue = 'smoker')"
   ]
  },
  {
   "cell_type": "markdown",
   "id": "b19dd2a7",
   "metadata": {},
   "source": [
    "From the above we can deduce that there is no correlation between smokers and region, i.e., they are evenly distributed"
   ]
  },
  {
   "cell_type": "markdown",
   "id": "638d7fe2",
   "metadata": {},
   "source": [
    "### 4. Relation between BMI and Sex"
   ]
  },
  {
   "cell_type": "code",
   "execution_count": 63,
   "id": "a5f4a4bf",
   "metadata": {},
   "outputs": [
    {
     "data": {
      "text/plain": [
       "<AxesSubplot:xlabel='bmi', ylabel='sex'>"
      ]
     },
     "execution_count": 63,
     "metadata": {},
     "output_type": "execute_result"
    },
    {
     "data": {
      "image/png": "[encoded data removed]",
      "text/plain": [
       "<Figure size 432x288 with 1 Axes>"
      ]
     },
     "metadata": {},
     "output_type": "display_data"
    }
   ],
   "source": [
    "sns.barplot(x = 'bmi', y = 'sex', data = data)"
   ]
  },
  {
   "cell_type": "markdown",
   "id": "2e43212e",
   "metadata": {},
   "source": [
    "We can deduce that there is an even distribution among both sexes for BMIs of all ranges, i.e., the data is not biased towards either sex"
   ]
  },
  {
   "cell_type": "markdown",
   "id": "ac02e750",
   "metadata": {},
   "source": [
    "### 5. Relation between Age and BMI"
   ]
  },
  {
   "cell_type": "code",
   "execution_count": 64,
   "id": "b9db0299",
   "metadata": {},
   "outputs": [
    {
     "data": {
      "text/plain": [
       "<AxesSubplot:xlabel='age', ylabel='bmi'>"
      ]
     },
     "execution_count": 64,
     "metadata": {},
     "output_type": "execute_result"
    },
    {
     "data": {
      "image/png": "[encoded data removed]",
      "text/plain": [
       "<Figure size 432x288 with 1 Axes>"
      ]
     },
     "metadata": {},
     "output_type": "display_data"
    }
   ],
   "source": [
    "sns.scatterplot(x = 'age', y = 'bmi', data = data)"
   ]
  },
  {
   "cell_type": "markdown",
   "id": "a2c3ddbd",
   "metadata": {},
   "source": [
    "We can see from the above that there is no bias towards age and bmi, i.e., people of all ages have BMIs of all ranges"
   ]
  },
  {
   "cell_type": "markdown",
   "id": "9c11a944",
   "metadata": {},
   "source": [
    "### 6. Relation between BMI and Children"
   ]
  },
  {
   "cell_type": "code",
   "execution_count": 65,
   "id": "93ddada3",
   "metadata": {},
   "outputs": [
    {
     "data": {
      "text/plain": [
       "<AxesSubplot:xlabel='bmi', ylabel='children'>"
      ]
     },
     "execution_count": 65,
     "metadata": {},
     "output_type": "execute_result"
    },
    {
     "data": {
      "image/png": "[encoded data removed]",
      "text/plain": [
       "<Figure size 432x288 with 1 Axes>"
      ]
     },
     "metadata": {},
     "output_type": "display_data"
    }
   ],
   "source": [
    "sns.histplot(x = 'bmi', y = 'children', data = data)"
   ]
  },
  {
   "cell_type": "markdown",
   "id": "ed1038f3",
   "metadata": {},
   "source": [
    "From the above we can observe that people of all BMI ranges have kids between 0 and 3, and people with 4 kids or 5 kids is rare but varied across different BMI ranges, so there is no correlation here"
   ]
  },
  {
   "cell_type": "markdown",
   "id": "562079cd",
   "metadata": {},
   "source": [
    "### 7. Relation between BMI and Charges"
   ]
  },
  {
   "cell_type": "code",
   "execution_count": 66,
   "id": "0688dc41",
   "metadata": {},
   "outputs": [
    {
     "data": {
      "text/plain": [
       "<AxesSubplot:xlabel='bmi', ylabel='charges'>"
      ]
     },
     "execution_count": 66,
     "metadata": {},
     "output_type": "execute_result"
    },
    {
     "data": {
      "image/png": "[encoded data removed]",
      "text/plain": [
       "<Figure size 432x288 with 1 Axes>"
      ]
     },
     "metadata": {},
     "output_type": "display_data"
    }
   ],
   "source": [
    "sns.scatterplot(x = 'bmi', y = 'charges', data = data)"
   ]
  },
  {
   "cell_type": "markdown",
   "id": "ece3bba6",
   "metadata": {},
   "source": [
    "From the above, we can clearly observe, that people with BMIs greater than average are charged higher."
   ]
  },
  {
   "cell_type": "markdown",
   "id": "bcedddd3",
   "metadata": {},
   "source": [
    "### 8. Relation between Region, Smoker and BMI"
   ]
  },
  {
   "cell_type": "code",
   "execution_count": 67,
   "id": "f55d0497",
   "metadata": {},
   "outputs": [
    {
     "data": {
      "text/plain": [
       "<AxesSubplot:xlabel='bmi', ylabel='region'>"
      ]
     },
     "execution_count": 67,
     "metadata": {},
     "output_type": "execute_result"
    },
    {
     "data": {
      "image/png": "[encoded data removed]",
      "text/plain": [
       "<Figure size 432x288 with 1 Axes>"
      ]
     },
     "metadata": {},
     "output_type": "display_data"
    }
   ],
   "source": [
    "sns.barplot(x = 'bmi', y = 'region', data = data, hue = 'smoker')"
   ]
  },
  {
   "cell_type": "markdown",
   "id": "7744539e",
   "metadata": {},
   "source": [
    "From the above we can deduce that the regions do not have a correlation with the BMI, i.e., it is evenly distributed among all the regions"
   ]
  },
  {
   "cell_type": "markdown",
   "id": "f60ff286",
   "metadata": {},
   "source": [
    "### 9. Region with most Children"
   ]
  },
  {
   "cell_type": "markdown",
   "id": "b8838b6d",
   "metadata": {},
   "source": [
    "### 10. Distribution of data in terms of Sex"
   ]
  },
  {
   "cell_type": "code",
   "execution_count": 68,
   "id": "7cf096c1",
   "metadata": {},
   "outputs": [
    {
     "data": {
      "image/png": "[encoded data removed]",
      "text/plain": [
       "<Figure size 864x432 with 1 Axes>"
      ]
     },
     "metadata": {},
     "output_type": "display_data"
    }
   ],
   "source": [
    "plt.figure(figsize = (12,6))\n",
    "sns.set_style('white')\n",
    "sns.countplot(x = 'sex', data = data, palette = 'GnBu')\n",
    "sns.despine(left = True)"
   ]
  },
  {
   "cell_type": "markdown",
   "id": "86e59b1b",
   "metadata": {},
   "source": [
    "From the above we can see that there is an equal percentage of males and females in this dataset"
   ]
  },
  {
   "cell_type": "markdown",
   "id": "5f897784",
   "metadata": {},
   "source": [
    "### 11. Relation between BMI, Charges and Sex"
   ]
  },
  {
   "cell_type": "code",
   "execution_count": 69,
   "id": "60875b51",
   "metadata": {},
   "outputs": [
    {
     "data": {
      "text/plain": [
       "<AxesSubplot:xlabel='bmi', ylabel='charges'>"
      ]
     },
     "execution_count": 69,
     "metadata": {},
     "output_type": "execute_result"
    },
    {
     "data": {
      "image/png": "[encoded data removed]",
      "text/plain": [
       "<Figure size 432x288 with 1 Axes>"
      ]
     },
     "metadata": {},
     "output_type": "display_data"
    }
   ],
   "source": [
    "sns.scatterplot(x = 'bmi', y = 'charges', data = data, hue = 'sex')"
   ]
  },
  {
   "cell_type": "markdown",
   "id": "79d98f4e",
   "metadata": {},
   "source": [
    "From the above, we can deduce that persons with BMI higher than average are charged higher, and that their sex is not relevant in this case, i.e., it is not biased towards sex of the person"
   ]
  },
  {
   "cell_type": "markdown",
   "id": "d6ca3aca",
   "metadata": {},
   "source": [
    "### 12. Relation between BMI, Charges and Smoker"
   ]
  },
  {
   "cell_type": "code",
   "execution_count": 70,
   "id": "f3ba5f1f",
   "metadata": {},
   "outputs": [
    {
     "data": {
      "text/plain": [
       "<AxesSubplot:xlabel='bmi', ylabel='charges'>"
      ]
     },
     "execution_count": 70,
     "metadata": {},
     "output_type": "execute_result"
    },
    {
     "data": {
      "image/png": "[encoded data removed]",
      "text/plain": [
       "<Figure size 432x288 with 1 Axes>"
      ]
     },
     "metadata": {},
     "output_type": "display_data"
    }
   ],
   "source": [
    "sns.scatterplot(x = 'bmi', y = 'charges', data = data, hue = 'smoker')"
   ]
  },
  {
   "cell_type": "markdown",
   "id": "6928dc8a",
   "metadata": {},
   "source": [
    "From the above, we can deduce that people who have higher BMI than average and are smokers are charged higher than average compared to non-smokers with average BMI"
   ]
  },
  {
   "cell_type": "markdown",
   "id": "8c7a6321",
   "metadata": {},
   "source": [
    "### 13. Relation between Children and Charges"
   ]
  },
  {
   "cell_type": "code",
   "execution_count": 71,
   "id": "a2a4803f",
   "metadata": {},
   "outputs": [
    {
     "data": {
      "text/plain": [
       "<AxesSubplot:xlabel='children', ylabel='charges'>"
      ]
     },
     "execution_count": 71,
     "metadata": {},
     "output_type": "execute_result"
    },
    {
     "data": {
      "image/png": "[encoded data removed]",
      "text/plain": [
       "<Figure size 432x288 with 1 Axes>"
      ]
     },
     "metadata": {},
     "output_type": "display_data"
    }
   ],
   "source": [
    "sns.barplot(x = 'children', y = 'charges', data = data)"
   ]
  },
  {
   "cell_type": "markdown",
   "id": "2c37e4cd",
   "metadata": {},
   "source": [
    "From the above we can conclude that there is even distribution between insurance charges and the number of children a person has, i.e., no correlation"
   ]
  },
  {
   "cell_type": "markdown",
   "id": "830d6b70",
   "metadata": {},
   "source": [
    "### 14. Relation between Age and Charges"
   ]
  },
  {
   "cell_type": "code",
   "execution_count": 72,
   "id": "777ba8af",
   "metadata": {},
   "outputs": [
    {
     "data": {
      "text/plain": [
       "<AxesSubplot:xlabel='age', ylabel='charges'>"
      ]
     },
     "execution_count": 72,
     "metadata": {},
     "output_type": "execute_result"
    },
    {
     "data": {
      "image/png": "[encoded data removed]",
      "text/plain": [
       "<Figure size 432x288 with 1 Axes>"
      ]
     },
     "metadata": {},
     "output_type": "display_data"
    }
   ],
   "source": [
    "sns.scatterplot(x = 'age', y = 'charges', data = data)"
   ]
  },
  {
   "cell_type": "code",
   "execution_count": 73,
   "id": "0ed4e8fe",
   "metadata": {},
   "outputs": [
    {
     "data": {
      "text/plain": [
       "<AxesSubplot:xlabel='age', ylabel='charges'>"
      ]
     },
     "execution_count": 73,
     "metadata": {},
     "output_type": "execute_result"
    },
    {
     "data": {
      "image/png": "[encoded data removed]",
      "text/plain": [
       "<Figure size 432x288 with 1 Axes>"
      ]
     },
     "metadata": {},
     "output_type": "display_data"
    }
   ],
   "source": [
    "sns.scatterplot(x = 'age', y = 'charges', data = data, hue = 'smoker')"
   ]
  },
  {
   "cell_type": "markdown",
   "id": "13cb36e5",
   "metadata": {},
   "source": [
    "From the above, we can conclude that the charges increase as the age of the person increases, and even more so if the person is a smoker"
   ]
  },
  {
   "cell_type": "markdown",
   "id": "15e59b58",
   "metadata": {},
   "source": [
    "### 15. Relation between Region and Charges"
   ]
  },
  {
   "cell_type": "code",
   "execution_count": 74,
   "id": "9b2fe528",
   "metadata": {},
   "outputs": [
    {
     "data": {
      "text/plain": [
       "<AxesSubplot:xlabel='region', ylabel='charges'>"
      ]
     },
     "execution_count": 74,
     "metadata": {},
     "output_type": "execute_result"
    },
    {
     "data": {
      "image/png": "[encoded data removed]",
      "text/plain": [
       "<Figure size 432x288 with 1 Axes>"
      ]
     },
     "metadata": {},
     "output_type": "display_data"
    }
   ],
   "source": [
    "sns.scatterplot(x = 'region', y = 'charges', data = data)"
   ]
  },
  {
   "cell_type": "markdown",
   "id": "b0b620d7",
   "metadata": {},
   "source": [
    "From the above, we can conclude that region has no correlation with the insurance charges."
   ]
  },
  {
   "cell_type": "markdown",
   "id": "fad2f487",
   "metadata": {},
   "source": [
    "## Conclusion of Analysis"
   ]
  },
  {
   "cell_type": "markdown",
   "id": "f7417674",
   "metadata": {},
   "source": [
    "We can conclude that the main factors affecting the insurance charges are age, BMI and smoker"
   ]
  },
  {
   "cell_type": "markdown",
   "id": "69170281",
   "metadata": {},
   "source": [
    "# Data Preprocessing"
   ]
  },
  {
   "cell_type": "markdown",
   "id": "8faeab77",
   "metadata": {},
   "source": [
    "### Cleaning the data"
   ]
  },
  {
   "cell_type": "code",
   "execution_count": 75,
   "id": "65886c01",
   "metadata": {},
   "outputs": [
    {
     "data": {
      "text/html": [
       "<div>\n",
       "<style scoped>\n",
       "    .dataframe tbody tr th:only-of-type {\n",
       "        vertical-align: middle;\n",
       "    }\n",
       "\n",
       "    .dataframe tbody tr th {\n",
       "        vertical-align: top;\n",
       "    }\n",
       "\n",
       "    .dataframe thead th {\n",
       "        text-align: right;\n",
       "    }\n",
       "</style>\n",
       "<table border=\"1\" class=\"dataframe\">\n",
       "  <thead>\n",
       "    <tr style=\"text-align: right;\">\n",
       "      <th></th>\n",
       "      <th>age</th>\n",
       "      <th>sex</th>\n",
       "      <th>bmi</th>\n",
       "      <th>children</th>\n",
       "      <th>smoker</th>\n",
       "      <th>region</th>\n",
       "      <th>charges</th>\n",
       "    </tr>\n",
       "  </thead>\n",
       "  <tbody>\n",
       "    <tr>\n",
       "      <th>0</th>\n",
       "      <td>19</td>\n",
       "      <td>female</td>\n",
       "      <td>27.900</td>\n",
       "      <td>0</td>\n",
       "      <td>yes</td>\n",
       "      <td>southwest</td>\n",
       "      <td>16884.92400</td>\n",
       "    </tr>\n",
       "    <tr>\n",
       "      <th>1</th>\n",
       "      <td>18</td>\n",
       "      <td>male</td>\n",
       "      <td>33.770</td>\n",
       "      <td>1</td>\n",
       "      <td>no</td>\n",
       "      <td>southeast</td>\n",
       "      <td>1725.55230</td>\n",
       "    </tr>\n",
       "    <tr>\n",
       "      <th>2</th>\n",
       "      <td>28</td>\n",
       "      <td>male</td>\n",
       "      <td>33.000</td>\n",
       "      <td>3</td>\n",
       "      <td>no</td>\n",
       "      <td>southeast</td>\n",
       "      <td>4449.46200</td>\n",
       "    </tr>\n",
       "    <tr>\n",
       "      <th>3</th>\n",
       "      <td>33</td>\n",
       "      <td>male</td>\n",
       "      <td>22.705</td>\n",
       "      <td>0</td>\n",
       "      <td>no</td>\n",
       "      <td>northwest</td>\n",
       "      <td>21984.47061</td>\n",
       "    </tr>\n",
       "    <tr>\n",
       "      <th>4</th>\n",
       "      <td>32</td>\n",
       "      <td>male</td>\n",
       "      <td>28.880</td>\n",
       "      <td>0</td>\n",
       "      <td>no</td>\n",
       "      <td>northwest</td>\n",
       "      <td>3866.85520</td>\n",
       "    </tr>\n",
       "  </tbody>\n",
       "</table>\n",
       "</div>"
      ],
      "text/plain": [
       "   age     sex     bmi  children smoker     region      charges\n",
       "0   19  female  27.900         0    yes  southwest  16884.92400\n",
       "1   18    male  33.770         1     no  southeast   1725.55230\n",
       "2   28    male  33.000         3     no  southeast   4449.46200\n",
       "3   33    male  22.705         0     no  northwest  21984.47061\n",
       "4   32    male  28.880         0     no  northwest   3866.85520"
      ]
     },
     "execution_count": 75,
     "metadata": {},
     "output_type": "execute_result"
    }
   ],
   "source": [
    "#Visualizing the data\n",
    "data.head()"
   ]
  },
  {
   "cell_type": "markdown",
   "id": "d59cb643",
   "metadata": {},
   "source": [
    "The data above has String values in the columns Sex, Smoker and Region. \n",
    "We can use One Hot Encoding to sort out the Sex and Smoker Columns"
   ]
  },
  {
   "cell_type": "markdown",
   "id": "c3fecadf",
   "metadata": {},
   "source": [
    "#### One Hot Encoding"
   ]
  },
  {
   "cell_type": "code",
   "execution_count": 76,
   "id": "4738bfcd",
   "metadata": {},
   "outputs": [],
   "source": [
    "#Storing all the values that are true for male (i.e., the person is a male) and then concatenating it \n",
    "#to the original data\n",
    "Male = pd.get_dummies(data['sex'], drop_first = True)\n",
    "data = pd.concat([data, Male], axis = 1)"
   ]
  },
  {
   "cell_type": "code",
   "execution_count": 77,
   "id": "205b3e43",
   "metadata": {},
   "outputs": [
    {
     "data": {
      "text/html": [
       "<div>\n",
       "<style scoped>\n",
       "    .dataframe tbody tr th:only-of-type {\n",
       "        vertical-align: middle;\n",
       "    }\n",
       "\n",
       "    .dataframe tbody tr th {\n",
       "        vertical-align: top;\n",
       "    }\n",
       "\n",
       "    .dataframe thead th {\n",
       "        text-align: right;\n",
       "    }\n",
       "</style>\n",
       "<table border=\"1\" class=\"dataframe\">\n",
       "  <thead>\n",
       "    <tr style=\"text-align: right;\">\n",
       "      <th></th>\n",
       "      <th>age</th>\n",
       "      <th>sex</th>\n",
       "      <th>bmi</th>\n",
       "      <th>children</th>\n",
       "      <th>smoker</th>\n",
       "      <th>region</th>\n",
       "      <th>charges</th>\n",
       "      <th>male</th>\n",
       "    </tr>\n",
       "  </thead>\n",
       "  <tbody>\n",
       "    <tr>\n",
       "      <th>0</th>\n",
       "      <td>19</td>\n",
       "      <td>female</td>\n",
       "      <td>27.900</td>\n",
       "      <td>0</td>\n",
       "      <td>yes</td>\n",
       "      <td>southwest</td>\n",
       "      <td>16884.92400</td>\n",
       "      <td>0</td>\n",
       "    </tr>\n",
       "    <tr>\n",
       "      <th>1</th>\n",
       "      <td>18</td>\n",
       "      <td>male</td>\n",
       "      <td>33.770</td>\n",
       "      <td>1</td>\n",
       "      <td>no</td>\n",
       "      <td>southeast</td>\n",
       "      <td>1725.55230</td>\n",
       "      <td>1</td>\n",
       "    </tr>\n",
       "    <tr>\n",
       "      <th>2</th>\n",
       "      <td>28</td>\n",
       "      <td>male</td>\n",
       "      <td>33.000</td>\n",
       "      <td>3</td>\n",
       "      <td>no</td>\n",
       "      <td>southeast</td>\n",
       "      <td>4449.46200</td>\n",
       "      <td>1</td>\n",
       "    </tr>\n",
       "    <tr>\n",
       "      <th>3</th>\n",
       "      <td>33</td>\n",
       "      <td>male</td>\n",
       "      <td>22.705</td>\n",
       "      <td>0</td>\n",
       "      <td>no</td>\n",
       "      <td>northwest</td>\n",
       "      <td>21984.47061</td>\n",
       "      <td>1</td>\n",
       "    </tr>\n",
       "    <tr>\n",
       "      <th>4</th>\n",
       "      <td>32</td>\n",
       "      <td>male</td>\n",
       "      <td>28.880</td>\n",
       "      <td>0</td>\n",
       "      <td>no</td>\n",
       "      <td>northwest</td>\n",
       "      <td>3866.85520</td>\n",
       "      <td>1</td>\n",
       "    </tr>\n",
       "  </tbody>\n",
       "</table>\n",
       "</div>"
      ],
      "text/plain": [
       "   age     sex     bmi  children smoker     region      charges  male\n",
       "0   19  female  27.900         0    yes  southwest  16884.92400     0\n",
       "1   18    male  33.770         1     no  southeast   1725.55230     1\n",
       "2   28    male  33.000         3     no  southeast   4449.46200     1\n",
       "3   33    male  22.705         0     no  northwest  21984.47061     1\n",
       "4   32    male  28.880         0     no  northwest   3866.85520     1"
      ]
     },
     "execution_count": 77,
     "metadata": {},
     "output_type": "execute_result"
    }
   ],
   "source": [
    "data.head()"
   ]
  },
  {
   "cell_type": "code",
   "execution_count": 78,
   "id": "2f3e1302",
   "metadata": {},
   "outputs": [],
   "source": [
    "#Storing all the values that are true for smoker (i.e., the person is a smoker) and then concatenating it \n",
    "#to the original data\n",
    "Smoker = pd.get_dummies(data['smoker'], drop_first = True)\n",
    "data = pd.concat([data, Smoker], axis = 1)"
   ]
  },
  {
   "cell_type": "code",
   "execution_count": 79,
   "id": "187a9119",
   "metadata": {},
   "outputs": [
    {
     "data": {
      "text/html": [
       "<div>\n",
       "<style scoped>\n",
       "    .dataframe tbody tr th:only-of-type {\n",
       "        vertical-align: middle;\n",
       "    }\n",
       "\n",
       "    .dataframe tbody tr th {\n",
       "        vertical-align: top;\n",
       "    }\n",
       "\n",
       "    .dataframe thead th {\n",
       "        text-align: right;\n",
       "    }\n",
       "</style>\n",
       "<table border=\"1\" class=\"dataframe\">\n",
       "  <thead>\n",
       "    <tr style=\"text-align: right;\">\n",
       "      <th></th>\n",
       "      <th>age</th>\n",
       "      <th>sex</th>\n",
       "      <th>bmi</th>\n",
       "      <th>children</th>\n",
       "      <th>smoker</th>\n",
       "      <th>region</th>\n",
       "      <th>charges</th>\n",
       "      <th>male</th>\n",
       "      <th>yes</th>\n",
       "    </tr>\n",
       "  </thead>\n",
       "  <tbody>\n",
       "    <tr>\n",
       "      <th>0</th>\n",
       "      <td>19</td>\n",
       "      <td>female</td>\n",
       "      <td>27.900</td>\n",
       "      <td>0</td>\n",
       "      <td>yes</td>\n",
       "      <td>southwest</td>\n",
       "      <td>16884.92400</td>\n",
       "      <td>0</td>\n",
       "      <td>1</td>\n",
       "    </tr>\n",
       "    <tr>\n",
       "      <th>1</th>\n",
       "      <td>18</td>\n",
       "      <td>male</td>\n",
       "      <td>33.770</td>\n",
       "      <td>1</td>\n",
       "      <td>no</td>\n",
       "      <td>southeast</td>\n",
       "      <td>1725.55230</td>\n",
       "      <td>1</td>\n",
       "      <td>0</td>\n",
       "    </tr>\n",
       "    <tr>\n",
       "      <th>2</th>\n",
       "      <td>28</td>\n",
       "      <td>male</td>\n",
       "      <td>33.000</td>\n",
       "      <td>3</td>\n",
       "      <td>no</td>\n",
       "      <td>southeast</td>\n",
       "      <td>4449.46200</td>\n",
       "      <td>1</td>\n",
       "      <td>0</td>\n",
       "    </tr>\n",
       "    <tr>\n",
       "      <th>3</th>\n",
       "      <td>33</td>\n",
       "      <td>male</td>\n",
       "      <td>22.705</td>\n",
       "      <td>0</td>\n",
       "      <td>no</td>\n",
       "      <td>northwest</td>\n",
       "      <td>21984.47061</td>\n",
       "      <td>1</td>\n",
       "      <td>0</td>\n",
       "    </tr>\n",
       "    <tr>\n",
       "      <th>4</th>\n",
       "      <td>32</td>\n",
       "      <td>male</td>\n",
       "      <td>28.880</td>\n",
       "      <td>0</td>\n",
       "      <td>no</td>\n",
       "      <td>northwest</td>\n",
       "      <td>3866.85520</td>\n",
       "      <td>1</td>\n",
       "      <td>0</td>\n",
       "    </tr>\n",
       "  </tbody>\n",
       "</table>\n",
       "</div>"
      ],
      "text/plain": [
       "   age     sex     bmi  children smoker     region      charges  male  yes\n",
       "0   19  female  27.900         0    yes  southwest  16884.92400     0    1\n",
       "1   18    male  33.770         1     no  southeast   1725.55230     1    0\n",
       "2   28    male  33.000         3     no  southeast   4449.46200     1    0\n",
       "3   33    male  22.705         0     no  northwest  21984.47061     1    0\n",
       "4   32    male  28.880         0     no  northwest   3866.85520     1    0"
      ]
     },
     "execution_count": 79,
     "metadata": {},
     "output_type": "execute_result"
    }
   ],
   "source": [
    "data.head()"
   ]
  },
  {
   "cell_type": "markdown",
   "id": "039b200a",
   "metadata": {},
   "source": [
    "We can now see that we have two new columns, 'male' and 'yes' that indicate whether or not the person in question is a male or a smoker."
   ]
  },
  {
   "cell_type": "markdown",
   "id": "ed45368d",
   "metadata": {},
   "source": [
    "#### Dropping and renaming columns"
   ]
  },
  {
   "cell_type": "code",
   "execution_count": 80,
   "id": "bd308f3a",
   "metadata": {},
   "outputs": [
    {
     "data": {
      "text/html": [
       "<div>\n",
       "<style scoped>\n",
       "    .dataframe tbody tr th:only-of-type {\n",
       "        vertical-align: middle;\n",
       "    }\n",
       "\n",
       "    .dataframe tbody tr th {\n",
       "        vertical-align: top;\n",
       "    }\n",
       "\n",
       "    .dataframe thead th {\n",
       "        text-align: right;\n",
       "    }\n",
       "</style>\n",
       "<table border=\"1\" class=\"dataframe\">\n",
       "  <thead>\n",
       "    <tr style=\"text-align: right;\">\n",
       "      <th></th>\n",
       "      <th>age</th>\n",
       "      <th>sex</th>\n",
       "      <th>bmi</th>\n",
       "      <th>children</th>\n",
       "      <th>smoker</th>\n",
       "      <th>region</th>\n",
       "      <th>charges</th>\n",
       "      <th>male</th>\n",
       "      <th>Smoker</th>\n",
       "    </tr>\n",
       "  </thead>\n",
       "  <tbody>\n",
       "    <tr>\n",
       "      <th>0</th>\n",
       "      <td>19</td>\n",
       "      <td>female</td>\n",
       "      <td>27.900</td>\n",
       "      <td>0</td>\n",
       "      <td>yes</td>\n",
       "      <td>southwest</td>\n",
       "      <td>16884.92400</td>\n",
       "      <td>0</td>\n",
       "      <td>1</td>\n",
       "    </tr>\n",
       "    <tr>\n",
       "      <th>1</th>\n",
       "      <td>18</td>\n",
       "      <td>male</td>\n",
       "      <td>33.770</td>\n",
       "      <td>1</td>\n",
       "      <td>no</td>\n",
       "      <td>southeast</td>\n",
       "      <td>1725.55230</td>\n",
       "      <td>1</td>\n",
       "      <td>0</td>\n",
       "    </tr>\n",
       "    <tr>\n",
       "      <th>2</th>\n",
       "      <td>28</td>\n",
       "      <td>male</td>\n",
       "      <td>33.000</td>\n",
       "      <td>3</td>\n",
       "      <td>no</td>\n",
       "      <td>southeast</td>\n",
       "      <td>4449.46200</td>\n",
       "      <td>1</td>\n",
       "      <td>0</td>\n",
       "    </tr>\n",
       "    <tr>\n",
       "      <th>3</th>\n",
       "      <td>33</td>\n",
       "      <td>male</td>\n",
       "      <td>22.705</td>\n",
       "      <td>0</td>\n",
       "      <td>no</td>\n",
       "      <td>northwest</td>\n",
       "      <td>21984.47061</td>\n",
       "      <td>1</td>\n",
       "      <td>0</td>\n",
       "    </tr>\n",
       "    <tr>\n",
       "      <th>4</th>\n",
       "      <td>32</td>\n",
       "      <td>male</td>\n",
       "      <td>28.880</td>\n",
       "      <td>0</td>\n",
       "      <td>no</td>\n",
       "      <td>northwest</td>\n",
       "      <td>3866.85520</td>\n",
       "      <td>1</td>\n",
       "      <td>0</td>\n",
       "    </tr>\n",
       "  </tbody>\n",
       "</table>\n",
       "</div>"
      ],
      "text/plain": [
       "   age     sex     bmi  children smoker     region      charges  male  Smoker\n",
       "0   19  female  27.900         0    yes  southwest  16884.92400     0       1\n",
       "1   18    male  33.770         1     no  southeast   1725.55230     1       0\n",
       "2   28    male  33.000         3     no  southeast   4449.46200     1       0\n",
       "3   33    male  22.705         0     no  northwest  21984.47061     1       0\n",
       "4   32    male  28.880         0     no  northwest   3866.85520     1       0"
      ]
     },
     "execution_count": 80,
     "metadata": {},
     "output_type": "execute_result"
    }
   ],
   "source": [
    "#Renaming the yes column to Smoker\n",
    "data = data.rename(columns = {'yes': 'Smoker'})\n",
    "data.head()"
   ]
  },
  {
   "cell_type": "code",
   "execution_count": 81,
   "id": "b946257d",
   "metadata": {},
   "outputs": [
    {
     "data": {
      "text/html": [
       "<div>\n",
       "<style scoped>\n",
       "    .dataframe tbody tr th:only-of-type {\n",
       "        vertical-align: middle;\n",
       "    }\n",
       "\n",
       "    .dataframe tbody tr th {\n",
       "        vertical-align: top;\n",
       "    }\n",
       "\n",
       "    .dataframe thead th {\n",
       "        text-align: right;\n",
       "    }\n",
       "</style>\n",
       "<table border=\"1\" class=\"dataframe\">\n",
       "  <thead>\n",
       "    <tr style=\"text-align: right;\">\n",
       "      <th></th>\n",
       "      <th>age</th>\n",
       "      <th>sex</th>\n",
       "      <th>bmi</th>\n",
       "      <th>children</th>\n",
       "      <th>smoker</th>\n",
       "      <th>region</th>\n",
       "      <th>charges</th>\n",
       "      <th>Sex</th>\n",
       "      <th>Smoker</th>\n",
       "    </tr>\n",
       "  </thead>\n",
       "  <tbody>\n",
       "    <tr>\n",
       "      <th>0</th>\n",
       "      <td>19</td>\n",
       "      <td>female</td>\n",
       "      <td>27.900</td>\n",
       "      <td>0</td>\n",
       "      <td>yes</td>\n",
       "      <td>southwest</td>\n",
       "      <td>16884.92400</td>\n",
       "      <td>0</td>\n",
       "      <td>1</td>\n",
       "    </tr>\n",
       "    <tr>\n",
       "      <th>1</th>\n",
       "      <td>18</td>\n",
       "      <td>male</td>\n",
       "      <td>33.770</td>\n",
       "      <td>1</td>\n",
       "      <td>no</td>\n",
       "      <td>southeast</td>\n",
       "      <td>1725.55230</td>\n",
       "      <td>1</td>\n",
       "      <td>0</td>\n",
       "    </tr>\n",
       "    <tr>\n",
       "      <th>2</th>\n",
       "      <td>28</td>\n",
       "      <td>male</td>\n",
       "      <td>33.000</td>\n",
       "      <td>3</td>\n",
       "      <td>no</td>\n",
       "      <td>southeast</td>\n",
       "      <td>4449.46200</td>\n",
       "      <td>1</td>\n",
       "      <td>0</td>\n",
       "    </tr>\n",
       "    <tr>\n",
       "      <th>3</th>\n",
       "      <td>33</td>\n",
       "      <td>male</td>\n",
       "      <td>22.705</td>\n",
       "      <td>0</td>\n",
       "      <td>no</td>\n",
       "      <td>northwest</td>\n",
       "      <td>21984.47061</td>\n",
       "      <td>1</td>\n",
       "      <td>0</td>\n",
       "    </tr>\n",
       "    <tr>\n",
       "      <th>4</th>\n",
       "      <td>32</td>\n",
       "      <td>male</td>\n",
       "      <td>28.880</td>\n",
       "      <td>0</td>\n",
       "      <td>no</td>\n",
       "      <td>northwest</td>\n",
       "      <td>3866.85520</td>\n",
       "      <td>1</td>\n",
       "      <td>0</td>\n",
       "    </tr>\n",
       "  </tbody>\n",
       "</table>\n",
       "</div>"
      ],
      "text/plain": [
       "   age     sex     bmi  children smoker     region      charges  Sex  Smoker\n",
       "0   19  female  27.900         0    yes  southwest  16884.92400    0       1\n",
       "1   18    male  33.770         1     no  southeast   1725.55230    1       0\n",
       "2   28    male  33.000         3     no  southeast   4449.46200    1       0\n",
       "3   33    male  22.705         0     no  northwest  21984.47061    1       0\n",
       "4   32    male  28.880         0     no  northwest   3866.85520    1       0"
      ]
     },
     "execution_count": 81,
     "metadata": {},
     "output_type": "execute_result"
    }
   ],
   "source": [
    "#Renaming the male column to Sex\n",
    "data = data.rename(columns = {'male': 'Sex'})\n",
    "data.head()"
   ]
  },
  {
   "cell_type": "code",
   "execution_count": 82,
   "id": "534aab4b",
   "metadata": {},
   "outputs": [],
   "source": [
    "#Dropping the two columns containing Strings\n",
    "data.drop('sex', axis = 1, inplace = True)\n",
    "data.drop('smoker', axis = 1, inplace = True)"
   ]
  },
  {
   "cell_type": "code",
   "execution_count": 83,
   "id": "4ffe19bf",
   "metadata": {},
   "outputs": [
    {
     "data": {
      "text/html": [
       "<div>\n",
       "<style scoped>\n",
       "    .dataframe tbody tr th:only-of-type {\n",
       "        vertical-align: middle;\n",
       "    }\n",
       "\n",
       "    .dataframe tbody tr th {\n",
       "        vertical-align: top;\n",
       "    }\n",
       "\n",
       "    .dataframe thead th {\n",
       "        text-align: right;\n",
       "    }\n",
       "</style>\n",
       "<table border=\"1\" class=\"dataframe\">\n",
       "  <thead>\n",
       "    <tr style=\"text-align: right;\">\n",
       "      <th></th>\n",
       "      <th>age</th>\n",
       "      <th>bmi</th>\n",
       "      <th>children</th>\n",
       "      <th>region</th>\n",
       "      <th>charges</th>\n",
       "      <th>Sex</th>\n",
       "      <th>Smoker</th>\n",
       "    </tr>\n",
       "  </thead>\n",
       "  <tbody>\n",
       "    <tr>\n",
       "      <th>0</th>\n",
       "      <td>19</td>\n",
       "      <td>27.900</td>\n",
       "      <td>0</td>\n",
       "      <td>southwest</td>\n",
       "      <td>16884.92400</td>\n",
       "      <td>0</td>\n",
       "      <td>1</td>\n",
       "    </tr>\n",
       "    <tr>\n",
       "      <th>1</th>\n",
       "      <td>18</td>\n",
       "      <td>33.770</td>\n",
       "      <td>1</td>\n",
       "      <td>southeast</td>\n",
       "      <td>1725.55230</td>\n",
       "      <td>1</td>\n",
       "      <td>0</td>\n",
       "    </tr>\n",
       "    <tr>\n",
       "      <th>2</th>\n",
       "      <td>28</td>\n",
       "      <td>33.000</td>\n",
       "      <td>3</td>\n",
       "      <td>southeast</td>\n",
       "      <td>4449.46200</td>\n",
       "      <td>1</td>\n",
       "      <td>0</td>\n",
       "    </tr>\n",
       "    <tr>\n",
       "      <th>3</th>\n",
       "      <td>33</td>\n",
       "      <td>22.705</td>\n",
       "      <td>0</td>\n",
       "      <td>northwest</td>\n",
       "      <td>21984.47061</td>\n",
       "      <td>1</td>\n",
       "      <td>0</td>\n",
       "    </tr>\n",
       "    <tr>\n",
       "      <th>4</th>\n",
       "      <td>32</td>\n",
       "      <td>28.880</td>\n",
       "      <td>0</td>\n",
       "      <td>northwest</td>\n",
       "      <td>3866.85520</td>\n",
       "      <td>1</td>\n",
       "      <td>0</td>\n",
       "    </tr>\n",
       "  </tbody>\n",
       "</table>\n",
       "</div>"
      ],
      "text/plain": [
       "   age     bmi  children     region      charges  Sex  Smoker\n",
       "0   19  27.900         0  southwest  16884.92400    0       1\n",
       "1   18  33.770         1  southeast   1725.55230    1       0\n",
       "2   28  33.000         3  southeast   4449.46200    1       0\n",
       "3   33  22.705         0  northwest  21984.47061    1       0\n",
       "4   32  28.880         0  northwest   3866.85520    1       0"
      ]
     },
     "execution_count": 83,
     "metadata": {},
     "output_type": "execute_result"
    }
   ],
   "source": [
    "data.head()"
   ]
  },
  {
   "cell_type": "markdown",
   "id": "a6bacc0f",
   "metadata": {},
   "source": [
    "#### Label Encoder"
   ]
  },
  {
   "cell_type": "code",
   "execution_count": 84,
   "id": "8a85ee59",
   "metadata": {},
   "outputs": [],
   "source": [
    "encoder = LabelEncoder()\n",
    "\n",
    "data['region'] = encoder.fit_transform(data['region'])"
   ]
  },
  {
   "cell_type": "code",
   "execution_count": 85,
   "id": "7c5c8fa8",
   "metadata": {},
   "outputs": [
    {
     "data": {
      "text/html": [
       "<div>\n",
       "<style scoped>\n",
       "    .dataframe tbody tr th:only-of-type {\n",
       "        vertical-align: middle;\n",
       "    }\n",
       "\n",
       "    .dataframe tbody tr th {\n",
       "        vertical-align: top;\n",
       "    }\n",
       "\n",
       "    .dataframe thead th {\n",
       "        text-align: right;\n",
       "    }\n",
       "</style>\n",
       "<table border=\"1\" class=\"dataframe\">\n",
       "  <thead>\n",
       "    <tr style=\"text-align: right;\">\n",
       "      <th></th>\n",
       "      <th>Age</th>\n",
       "      <th>BMI</th>\n",
       "      <th>Children</th>\n",
       "      <th>Region</th>\n",
       "      <th>Charges</th>\n",
       "      <th>Sex</th>\n",
       "      <th>Smoker</th>\n",
       "    </tr>\n",
       "  </thead>\n",
       "  <tbody>\n",
       "    <tr>\n",
       "      <th>0</th>\n",
       "      <td>19</td>\n",
       "      <td>27.900</td>\n",
       "      <td>0</td>\n",
       "      <td>3</td>\n",
       "      <td>16884.92400</td>\n",
       "      <td>0</td>\n",
       "      <td>1</td>\n",
       "    </tr>\n",
       "    <tr>\n",
       "      <th>1</th>\n",
       "      <td>18</td>\n",
       "      <td>33.770</td>\n",
       "      <td>1</td>\n",
       "      <td>2</td>\n",
       "      <td>1725.55230</td>\n",
       "      <td>1</td>\n",
       "      <td>0</td>\n",
       "    </tr>\n",
       "    <tr>\n",
       "      <th>2</th>\n",
       "      <td>28</td>\n",
       "      <td>33.000</td>\n",
       "      <td>3</td>\n",
       "      <td>2</td>\n",
       "      <td>4449.46200</td>\n",
       "      <td>1</td>\n",
       "      <td>0</td>\n",
       "    </tr>\n",
       "    <tr>\n",
       "      <th>3</th>\n",
       "      <td>33</td>\n",
       "      <td>22.705</td>\n",
       "      <td>0</td>\n",
       "      <td>1</td>\n",
       "      <td>21984.47061</td>\n",
       "      <td>1</td>\n",
       "      <td>0</td>\n",
       "    </tr>\n",
       "    <tr>\n",
       "      <th>4</th>\n",
       "      <td>32</td>\n",
       "      <td>28.880</td>\n",
       "      <td>0</td>\n",
       "      <td>1</td>\n",
       "      <td>3866.85520</td>\n",
       "      <td>1</td>\n",
       "      <td>0</td>\n",
       "    </tr>\n",
       "  </tbody>\n",
       "</table>\n",
       "</div>"
      ],
      "text/plain": [
       "   Age     BMI  Children  Region      Charges  Sex  Smoker\n",
       "0   19  27.900         0       3  16884.92400    0       1\n",
       "1   18  33.770         1       2   1725.55230    1       0\n",
       "2   28  33.000         3       2   4449.46200    1       0\n",
       "3   33  22.705         0       1  21984.47061    1       0\n",
       "4   32  28.880         0       1   3866.85520    1       0"
      ]
     },
     "execution_count": 85,
     "metadata": {},
     "output_type": "execute_result"
    }
   ],
   "source": [
    "#Renaming all the columns\n",
    "data = data.rename(columns = {'age' : 'Age'})\n",
    "data = data.rename(columns = {'bmi' : 'BMI'})\n",
    "data = data.rename(columns = {'children' : 'Children'})\n",
    "data = data.rename(columns = {'region' : 'Region'})\n",
    "data = data.rename(columns = {'charges': 'Charges'})\n",
    "\n",
    "data.head()"
   ]
  },
  {
   "cell_type": "markdown",
   "id": "0e1495c4",
   "metadata": {},
   "source": [
    "Now we have removed all the String values from the data"
   ]
  },
  {
   "cell_type": "markdown",
   "id": "e698be1d",
   "metadata": {},
   "source": [
    "# Scaling and Splitting the Data"
   ]
  },
  {
   "cell_type": "markdown",
   "id": "d2324dfc",
   "metadata": {},
   "source": [
    "### Scaling the Data"
   ]
  },
  {
   "cell_type": "code",
   "execution_count": 86,
   "id": "d7b32ff7",
   "metadata": {},
   "outputs": [],
   "source": [
    "#We use variables to store the scaler\n",
    "scaler = MinMaxScaler()\n",
    "data_scaled = scaler.fit(data)"
   ]
  },
  {
   "cell_type": "code",
   "execution_count": 87,
   "id": "fddf544b",
   "metadata": {},
   "outputs": [],
   "source": [
    "#We scale data and store it into a new variable\n",
    "scaled_data = pd.DataFrame(data = scaler.transform(data), columns = data.columns, index = data.index)"
   ]
  },
  {
   "cell_type": "code",
   "execution_count": 88,
   "id": "e00085a1",
   "metadata": {},
   "outputs": [
    {
     "name": "stdout",
     "output_type": "stream",
     "text": [
      "           Age       BMI  Children    Region   Charges  Sex  Smoker\n",
      "0     0.021739  0.387788       0.0  1.000000  0.256431  0.0     1.0\n",
      "1     0.000000  0.578435       0.2  0.666667  0.009821  1.0     0.0\n",
      "2     0.217391  0.553426       0.6  0.666667  0.054133  1.0     0.0\n",
      "3     0.326087  0.219065       0.0  0.333333  0.339389  1.0     0.0\n",
      "4     0.304348  0.419617       0.0  0.333333  0.044655  1.0     0.0\n",
      "...        ...       ...       ...       ...       ...  ...     ...\n",
      "1333  0.695652  0.487496       0.6  0.333333  0.154198  1.0     0.0\n",
      "1334  0.000000  0.518350       0.0  0.000000  0.017636  0.0     0.0\n",
      "1335  0.000000  0.678467       0.0  0.666667  0.008263  0.0     0.0\n",
      "1336  0.065217  0.319584       0.0  1.000000  0.014414  0.0     0.0\n",
      "1337  0.934783  0.425788       0.0  0.333333  0.455816  0.0     1.0\n",
      "\n",
      "[1329 rows x 7 columns]\n"
     ]
    }
   ],
   "source": [
    "#Print scaled data\n",
    "print(scaled_data)"
   ]
  },
  {
   "cell_type": "markdown",
   "id": "4d915b5c",
   "metadata": {},
   "source": [
    "### Splitting the Data"
   ]
  },
  {
   "cell_type": "code",
   "execution_count": 186,
   "id": "002e9ff0",
   "metadata": {},
   "outputs": [],
   "source": [
    "#We store the values in x and y\n",
    "#We only use the columns of Age, BMI and Smoker as they have the most impact on the output as seen from\n",
    "#our exploratory data analysis\n",
    "selected_columns = scaled_data[['Age', 'BMI','Smoker']]\n",
    "x = selected_columns.copy()\n",
    "y = scaled_data['Charges']"
   ]
  },
  {
   "cell_type": "code",
   "execution_count": 161,
   "id": "254b3efd",
   "metadata": {},
   "outputs": [
    {
     "name": "stdout",
     "output_type": "stream",
     "text": [
      "           Age       BMI  Smoker\n",
      "0     0.021739  0.387788     1.0\n",
      "1     0.000000  0.578435     0.0\n",
      "2     0.217391  0.553426     0.0\n",
      "3     0.326087  0.219065     0.0\n",
      "4     0.304348  0.419617     0.0\n",
      "...        ...       ...     ...\n",
      "1333  0.695652  0.487496     0.0\n",
      "1334  0.000000  0.518350     0.0\n",
      "1335  0.000000  0.678467     0.0\n",
      "1336  0.065217  0.319584     0.0\n",
      "1337  0.934783  0.425788     1.0\n",
      "\n",
      "[1329 rows x 3 columns]\n"
     ]
    }
   ],
   "source": [
    "#Print x\n",
    "print(x)"
   ]
  },
  {
   "cell_type": "code",
   "execution_count": 162,
   "id": "3c483df5",
   "metadata": {},
   "outputs": [
    {
     "name": "stdout",
     "output_type": "stream",
     "text": [
      "0       0.256431\n",
      "1       0.009821\n",
      "2       0.054133\n",
      "3       0.339389\n",
      "4       0.044655\n",
      "          ...   \n",
      "1333    0.154198\n",
      "1334    0.017636\n",
      "1335    0.008263\n",
      "1336    0.014414\n",
      "1337    0.455816\n",
      "Name: Charges, Length: 1329, dtype: float64\n"
     ]
    }
   ],
   "source": [
    "#Print y\n",
    "print(y)"
   ]
  },
  {
   "cell_type": "code",
   "execution_count": 163,
   "id": "c19a5f1c",
   "metadata": {},
   "outputs": [],
   "source": [
    "#We use the train_test_split model to split our data into a 70 to 30 ratio\n",
    "x_train, x_test, y_train, y_test = train_test_split(x, y, test_size = 0.3, random_state = 0)"
   ]
  },
  {
   "cell_type": "markdown",
   "id": "b4642dd3",
   "metadata": {},
   "source": [
    "# Creating and Training the Models"
   ]
  },
  {
   "cell_type": "code",
   "execution_count": 164,
   "id": "4857498c",
   "metadata": {},
   "outputs": [],
   "source": [
    "# Create an object using the LinearRegression() class\n",
    "linear_regression_model = LinearRegression()\n",
    "\n",
    "# Create an object using the SVR() class\n",
    "support_vector_regression_model_linear = svm.SVR(kernel = 'linear')\n",
    "\n",
    "# Create an object using the SVR() class\n",
    "support_vector_regression_model_rbf = svm.SVR(kernel = 'rbf')\n",
    "\n",
    "# Create an object using the SGD() class"
   ]
  },
  {
   "cell_type": "code",
   "execution_count": 165,
   "id": "62d721a5",
   "metadata": {},
   "outputs": [
    {
     "data": {
      "text/plain": [
       "SVR()"
      ]
     },
     "execution_count": 165,
     "metadata": {},
     "output_type": "execute_result"
    }
   ],
   "source": [
    "#Train the Linear Regression model\n",
    "linear_regression_model.fit(x_train, y_train)\n",
    "\n",
    "#Train the Support Vector Regression Model\n",
    "support_vector_regression_model_linear.fit(x_train, y_train)\n",
    "\n",
    "#Train the Support Vector Regression Model\n",
    "support_vector_regression_model_rbf.fit(x_train, y_train)"
   ]
  },
  {
   "cell_type": "markdown",
   "id": "60a9f2d5",
   "metadata": {},
   "source": [
    "# Prediction of the Models"
   ]
  },
  {
   "cell_type": "code",
   "execution_count": 166,
   "id": "f05898fa",
   "metadata": {},
   "outputs": [],
   "source": [
    "# Make prediction using the test dataset on Linear Regression model\n",
    "linear_pred = linear_regression_model.predict(x_test)\n",
    "\n",
    "# Make prediction using the test dataset on Support Vector Regression model\n",
    "support_pred_linear = support_vector_regression_model_linear.predict(x_test)\n",
    "\n",
    "# Make prediction using the test dataset on Support Vector Regression model\n",
    "support_pred_rbf = support_vector_regression_model_rbf.predict(x_test)"
   ]
  },
  {
   "cell_type": "markdown",
   "id": "cba9995e",
   "metadata": {},
   "source": [
    "# Comparing the Performances of the Models"
   ]
  },
  {
   "cell_type": "markdown",
   "id": "983931ab",
   "metadata": {},
   "source": [
    "### Linear Regression Model Performance"
   ]
  },
  {
   "cell_type": "code",
   "execution_count": 167,
   "id": "40238b89",
   "metadata": {},
   "outputs": [
    {
     "data": {
      "text/plain": [
       "0.7413842317599587"
      ]
     },
     "execution_count": 167,
     "metadata": {},
     "output_type": "execute_result"
    }
   ],
   "source": [
    "r2_score(y_test, linear_pred)"
   ]
  },
  {
   "cell_type": "code",
   "execution_count": 168,
   "id": "ad385a16",
   "metadata": {},
   "outputs": [
    {
     "data": {
      "text/plain": [
       "0.07389663643441644"
      ]
     },
     "execution_count": 168,
     "metadata": {},
     "output_type": "execute_result"
    }
   ],
   "source": [
    "mean_absolute_error(y_test, linear_pred)"
   ]
  },
  {
   "cell_type": "code",
   "execution_count": 169,
   "id": "ecad6ba6",
   "metadata": {},
   "outputs": [
    {
     "data": {
      "text/plain": [
       "0.0113874843888952"
      ]
     },
     "execution_count": 169,
     "metadata": {},
     "output_type": "execute_result"
    }
   ],
   "source": [
    "mean_squared_error(y_test, linear_pred)"
   ]
  },
  {
   "cell_type": "code",
   "execution_count": 170,
   "id": "63bd83e0",
   "metadata": {},
   "outputs": [
    {
     "data": {
      "text/plain": [
       "0.5816370035176655"
      ]
     },
     "execution_count": 170,
     "metadata": {},
     "output_type": "execute_result"
    }
   ],
   "source": [
    "mean_absolute_percentage_error(y_test, linear_pred)"
   ]
  },
  {
   "cell_type": "code",
   "execution_count": 171,
   "id": "762d086d",
   "metadata": {},
   "outputs": [
    {
     "data": {
      "text/plain": [
       "0.47756785938768875"
      ]
     },
     "execution_count": 171,
     "metadata": {},
     "output_type": "execute_result"
    }
   ],
   "source": [
    "max_error(y_test, linear_pred)"
   ]
  },
  {
   "cell_type": "code",
   "execution_count": 172,
   "id": "f1f87b4a",
   "metadata": {},
   "outputs": [
    {
     "data": {
      "text/plain": [
       "0.040860222088569875"
      ]
     },
     "execution_count": 172,
     "metadata": {},
     "output_type": "execute_result"
    }
   ],
   "source": [
    "median_absolute_error(y_test, linear_pred)"
   ]
  },
  {
   "cell_type": "markdown",
   "id": "55cfeaba",
   "metadata": {},
   "source": [
    "### Support Vector Regression Model Performance"
   ]
  },
  {
   "cell_type": "code",
   "execution_count": 173,
   "id": "5a4a4a6b",
   "metadata": {},
   "outputs": [
    {
     "data": {
      "text/plain": [
       "0.7377157284462275"
      ]
     },
     "execution_count": 173,
     "metadata": {},
     "output_type": "execute_result"
    }
   ],
   "source": [
    "r2_score(y_test, support_pred_linear)"
   ]
  },
  {
   "cell_type": "code",
   "execution_count": 174,
   "id": "5e137c41",
   "metadata": {},
   "outputs": [
    {
     "data": {
      "text/plain": [
       "0.780716106627135"
      ]
     },
     "execution_count": 174,
     "metadata": {},
     "output_type": "execute_result"
    }
   ],
   "source": [
    "r2_score(y_test, support_pred_rbf)"
   ]
  },
  {
   "cell_type": "code",
   "execution_count": 175,
   "id": "4bff08d4",
   "metadata": {},
   "outputs": [
    {
     "data": {
      "text/plain": [
       "0.07970375503470613"
      ]
     },
     "execution_count": 175,
     "metadata": {},
     "output_type": "execute_result"
    }
   ],
   "source": [
    "mean_absolute_error(y_test, support_pred_linear)"
   ]
  },
  {
   "cell_type": "code",
   "execution_count": 176,
   "id": "ade17aa2",
   "metadata": {},
   "outputs": [
    {
     "data": {
      "text/plain": [
       "0.08784191534394419"
      ]
     },
     "execution_count": 176,
     "metadata": {},
     "output_type": "execute_result"
    }
   ],
   "source": [
    "mean_absolute_error(y_test, support_pred_rbf)"
   ]
  },
  {
   "cell_type": "code",
   "execution_count": 177,
   "id": "b41bbc32",
   "metadata": {},
   "outputs": [
    {
     "data": {
      "text/plain": [
       "0.011549017556420202"
      ]
     },
     "execution_count": 177,
     "metadata": {},
     "output_type": "execute_result"
    }
   ],
   "source": [
    "mean_squared_error(y_test, support_pred_linear)"
   ]
  },
  {
   "cell_type": "code",
   "execution_count": 178,
   "id": "0e5bd942",
   "metadata": {},
   "outputs": [
    {
     "data": {
      "text/plain": [
       "0.009655605802821411"
      ]
     },
     "execution_count": 178,
     "metadata": {},
     "output_type": "execute_result"
    }
   ],
   "source": [
    "mean_squared_error(y_test, support_pred_rbf)"
   ]
  },
  {
   "cell_type": "code",
   "execution_count": 179,
   "id": "0c764c6d",
   "metadata": {},
   "outputs": [
    {
     "data": {
      "text/plain": [
       "0.8530248691797705"
      ]
     },
     "execution_count": 179,
     "metadata": {},
     "output_type": "execute_result"
    }
   ],
   "source": [
    "mean_absolute_percentage_error(y_test, support_pred_linear)"
   ]
  },
  {
   "cell_type": "code",
   "execution_count": 180,
   "id": "325dcec2",
   "metadata": {},
   "outputs": [
    {
     "data": {
      "text/plain": [
       "1.6706289142166595"
      ]
     },
     "execution_count": 180,
     "metadata": {},
     "output_type": "execute_result"
    }
   ],
   "source": [
    "mean_absolute_percentage_error(y_test, support_pred_rbf)"
   ]
  },
  {
   "cell_type": "code",
   "execution_count": 181,
   "id": "8323a923",
   "metadata": {},
   "outputs": [
    {
     "data": {
      "text/plain": [
       "0.4846908715339192"
      ]
     },
     "execution_count": 181,
     "metadata": {},
     "output_type": "execute_result"
    }
   ],
   "source": [
    "max_error(y_test, support_pred_linear)"
   ]
  },
  {
   "cell_type": "code",
   "execution_count": 182,
   "id": "6633ac26",
   "metadata": {},
   "outputs": [
    {
     "data": {
      "text/plain": [
       "0.4734946893679063"
      ]
     },
     "execution_count": 182,
     "metadata": {},
     "output_type": "execute_result"
    }
   ],
   "source": [
    "max_error(y_test, support_pred_rbf)"
   ]
  },
  {
   "cell_type": "code",
   "execution_count": 183,
   "id": "f4e20472",
   "metadata": {},
   "outputs": [
    {
     "data": {
      "text/plain": [
       "0.06286835960115092"
      ]
     },
     "execution_count": 183,
     "metadata": {},
     "output_type": "execute_result"
    }
   ],
   "source": [
    "median_absolute_error(y_test, support_pred_linear)"
   ]
  },
  {
   "cell_type": "code",
   "execution_count": 184,
   "id": "a0ce3768",
   "metadata": {},
   "outputs": [
    {
     "data": {
      "text/plain": [
       "0.0851748276499199"
      ]
     },
     "execution_count": 184,
     "metadata": {},
     "output_type": "execute_result"
    }
   ],
   "source": [
    "median_absolute_error(y_test, support_pred_rbf)"
   ]
  }
 ],
 "metadata": {
  "kernelspec": {
   "display_name": "Python 3 (ipykernel)",
   "language": "python",
   "name": "python3"
  },
  "language_info": {
   "codemirror_mode": {
    "name": "ipython",
    "version": 3
   },
   "file_extension": ".py",
   "mimetype": "text/x-python",
   "name": "python",
   "nbconvert_exporter": "python",
   "pygments_lexer": "ipython3",
   "version": "3.9.12"
  }
 },
 "nbformat": 4,
 "nbformat_minor": 5
}
